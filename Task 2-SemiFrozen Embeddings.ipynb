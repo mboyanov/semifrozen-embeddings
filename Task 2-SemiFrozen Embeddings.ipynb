{
 "cells": [
  {
   "cell_type": "markdown",
   "metadata": {},
   "source": [
    "# Transfer Learning in NLP : semi-frozen embeddings\n",
    "\n"
   ]
  },
  {
   "cell_type": "markdown",
   "metadata": {},
   "source": [
    "## Introduction & Problem Statement\n",
    "\n",
    "The idea behind *\"transfer learning\"* is to take a state of the art model pre-trained on a massive dataset and then *fine-tuning* the model on a new related task where the training data is insufficient to train an analogous model. Transfer learning is gaining more and more traction in the NLP world with models such as [BERT](https://arxiv.org/abs/1810.04805), [Elmo](https://arxiv.org/abs/1802.05365) and [ULMFit](https://arxiv.org/abs/1801.06146) showing the enormous potential. \n",
    "\n",
    "To be fair, transfer learning has been around for quite some time but in a more relaxed setting: the usage of *pretrained word embeddings*.\n",
    "\n",
    "Unfortunately, there is a huge problem - particularly when transferring knowledge from one domain to another - the problem of **vocabulary mismatch**. Very often, the target domain contains words which are quite specific and important, but they are missing from the original domain. It is vital to incorporate these words in the model, but their absence from the pretrained embeddings vocabulary makes it problematic.\n",
    "There are three obvious options for modeling them:\n",
    "1. **Discard** the pretrained embeddings, start from scratch with a random init.\n",
    "2. Set the unknown words to the mean of the pretrained embeddings and **keep them frozen**\n",
    "3. Set the unknown words to the mean of the pretrained embeddings and **unfreeze the entire layer**\n",
    "\n",
    "All of these have their drawbacks:   \n",
    "Option 1. discards any notion of transfer learning.   \n",
    "Option 2. treats all unknown words the same and keeps them frozen, thus failing to model them effectively.        \n",
    "In my experiments, Option 3. would eventually lose all prior knowledge and overfit on the training set.\n",
    "\n",
    "Thus, I propose a compromise: **Semi-Frozen Embeddings**. The semi-frozen embeddings module would split the embeddings into two groups: a frozen group and a trainable group. The *frozen group* will consist of the pretrained word embeddings and will be (duh) frozen - it *will NOT be updated during training*. The *trainable group* will contain the new words that need to be finetuned. They are initialized with the mean of the pretrained embeddings and are *updated during training*.\n",
    "\n",
    "\n",
    "We will explore this idea by experimenting on the [\"Hack the News Challenge\"](https://www.datasciencesociety.net/hack-news-datathon-case-propaganda-detection/) for Propaganda Detection Task 2.\n",
    "We will use the great [fast.ai](https://github.com/fastai/fastai) library and implement the new module in [pytorch](https://pytorch.org/). For pretrained word embeddings we will use [Glove](https://nlp.stanford.edu/projects/glove/)."
   ]
  },
  {
   "cell_type": "markdown",
   "metadata": {},
   "source": [
    "\n",
    "## Data loading and preprocessing\n",
    "\n",
    "We'll apply the following steps:\n",
    "1. load up the data\n",
    "2. tokenize the raw texts into lowercased tokens\n",
    "3. split the dataset into training and validation subsets. \n",
    "4. vectorize via tfidf\n",
    "5. discard empty lines"
   ]
  },
  {
   "cell_type": "code",
   "execution_count": 1,
   "metadata": {},
   "outputs": [],
   "source": [
    "import pathlib\n",
    "import pandas as pd\n",
    "import numpy as np\n",
    "import spacy\n",
    "%reload_ext autoreload\n",
    "%autoreload 2"
   ]
  },
  {
   "cell_type": "markdown",
   "metadata": {},
   "source": [
    "## Read the data\n",
    "Download the dataset from https://s3.us-east-2.amazonaws.com/propaganda-datathon/dataset/datasets-v5.zip"
   ]
  },
  {
   "cell_type": "code",
   "execution_count": 2,
   "metadata": {},
   "outputs": [],
   "source": [
    "data_path = pathlib.Path('/home/martin/data/fakenews/datasets-v5/tasks-2-3/train/')\n",
    "\n",
    "def read_data(data_path, is_test=False):\n",
    "    sentences = []\n",
    "    labels = []\n",
    "    for fn in data_path.glob('*.txt'):\n",
    "        text = fn.read_text()\n",
    "        line_it = text.split('\\n')\n",
    "        if not is_test:\n",
    "            fn_labels = pathlib.Path(fn.as_posix().replace('.txt', '.task2.labels'))\n",
    "            labels_text = fn_labels.read_text()\n",
    "            labels_it = labels_text.split('\\n')\n",
    "        else:\n",
    "            labels_it = ('n/a' for _ in range(len(line_it)))\n",
    "        for line, label in zip(line_it, labels_it):\n",
    "            if label:\n",
    "                sentences.append(line)\n",
    "                labels.append(label.split()[-1])\n",
    "\n",
    "    return pd.DataFrame({'text': sentences, 'labels': labels})\n",
    "data = read_data(data_path)"
   ]
  },
  {
   "cell_type": "code",
   "execution_count": 3,
   "metadata": {},
   "outputs": [],
   "source": [
    "# 2. Tokenize\n",
    "from fastai.text import Vocab, Tokenizer, TextList\n"
   ]
  },
  {
   "cell_type": "code",
   "execution_count": 4,
   "metadata": {},
   "outputs": [],
   "source": [
    "tl = TextList.from_df(data, cols='text')\n",
    "split_tl = tl.split_by_rand_pct(seed=42)"
   ]
  },
  {
   "cell_type": "code",
   "execution_count": 5,
   "metadata": {},
   "outputs": [],
   "source": [
    "db = split_tl.label_from_df('labels')"
   ]
  },
  {
   "cell_type": "code",
   "execution_count": 6,
   "metadata": {},
   "outputs": [],
   "source": [
    "db = db.databunch()"
   ]
  },
  {
   "cell_type": "code",
   "execution_count": 7,
   "metadata": {},
   "outputs": [],
   "source": [
    "vocab = db.train_ds.vocab"
   ]
  },
  {
   "cell_type": "markdown",
   "metadata": {},
   "source": [
    "# Load pretrained embeddings\n",
    "\n"
   ]
  },
  {
   "cell_type": "markdown",
   "metadata": {},
   "source": [
    "We will load the pretrained word embeddings, extract the word vectors that are common with our vocabulary and initialize the missing word embeddings as the mean of the original pretrained word embeddings."
   ]
  },
  {
   "cell_type": "code",
   "execution_count": 8,
   "metadata": {},
   "outputs": [],
   "source": [
    "from torch.nn import Embedding\n",
    "from gensim.models.keyedvectors import KeyedVectors"
   ]
  },
  {
   "cell_type": "code",
   "execution_count": 9,
   "metadata": {},
   "outputs": [],
   "source": [
    "wv = KeyedVectors.load_word2vec_format('/data/embeddings/glove.100k.300d.txt')"
   ]
  },
  {
   "cell_type": "code",
   "execution_count": 10,
   "metadata": {},
   "outputs": [],
   "source": [
    "# calculate the mean of the pretrained word embeddings\n",
    "mean = wv.vectors.mean(axis=0)"
   ]
  },
  {
   "cell_type": "code",
   "execution_count": 11,
   "metadata": {},
   "outputs": [],
   "source": [
    "missing = []\n",
    "missing_words = []\n",
    "pretrained = []\n",
    "for i, w in enumerate(vocab.itos):\n",
    "    if w in wv:\n",
    "        pretrained.append(wv[w][None])\n",
    "    else:\n",
    "        pretrained.append(mean[None])\n",
    "        missing.append(i)\n",
    "        missing_words.append(w)\n",
    "pretrained = np.vstack(pretrained)"
   ]
  },
  {
   "cell_type": "code",
   "execution_count": 12,
   "metadata": {},
   "outputs": [
    {
     "data": {
      "text/plain": [
       "((7200, 300),\n",
       " [0, 1, 2, 3, 4, 5, 6, 7, 8, 188],\n",
       " ['xxunk',\n",
       "  'xxpad',\n",
       "  'xxbos',\n",
       "  'xxeos',\n",
       "  'xxfld',\n",
       "  'xxmaj',\n",
       "  'xxup',\n",
       "  'xxrep',\n",
       "  'xxwrep',\n",
       "  'mccarrick'])"
      ]
     },
     "execution_count": 12,
     "metadata": {},
     "output_type": "execute_result"
    }
   ],
   "source": [
    "pretrained.shape, missing[:10], missing_words[:10]"
   ]
  },
  {
   "cell_type": "code",
   "execution_count": 13,
   "metadata": {},
   "outputs": [
    {
     "data": {
      "text/plain": [
       "314"
      ]
     },
     "execution_count": 13,
     "metadata": {},
     "output_type": "execute_result"
    }
   ],
   "source": [
    "len(missing_words)"
   ]
  },
  {
   "cell_type": "markdown",
   "metadata": {},
   "source": [
    "Uh, oh - we have **314 missing word**. We need to incorporate them in the model."
   ]
  },
  {
   "cell_type": "markdown",
   "metadata": {},
   "source": [
    "## SemiFrozen embeddings"
   ]
  },
  {
   "cell_type": "markdown",
   "metadata": {},
   "source": [
    "Internally, the SemiFrozen embeddings layer defines two nn.Embedding layers. \n",
    "Looking up the frozen ids goes to one embedding, looking up the trainable ids goes to another. The intermediate results are then summed to provide the final output.    \n",
    "A *semi-freeze* method is provided which freezes only the embeddings corresponding to the frozen ids of the layer."
   ]
  },
  {
   "cell_type": "code",
   "execution_count": 14,
   "metadata": {},
   "outputs": [
    {
     "name": "stdout",
     "output_type": "stream",
     "text": [
      "class SemiFrozenEmbedding(nn.Module):\n",
      "\n",
      "    def __init__(self, num_emb, emb_dim, padding_idx, _weight, frozen_ids = None):\n",
      "        \"\"\"\n",
      "        Acts as a replacement for the nn.Embedding module where some of the vectors for the frozen_ids are kept frozen.\n",
      "        :param num_emb:\n",
      "        :param emb_dim:\n",
      "        :param padding_idx:\n",
      "        :param _weight:\n",
      "        :param frozen_ids:\n",
      "        \"\"\"\n",
      "        frozen_ids = frozen_ids if frozen_ids is not None else []\n",
      "        frozen_id_set = set(frozen_ids)\n",
      "        self.embedding_dim, self.num_emb = emb_dim, num_emb\n",
      "        super(SemiFrozenEmbedding, self).__init__()\n",
      "        self.frozen_ids = frozen_ids\n",
      "        frozen_weight = torch.cat( [torch.zeros(padding_idx+1, emb_dim), _weight[self.frozen_ids]], dim=0)\n",
      "        self.frozen_emb = nn.Embedding(len(self.frozen_ids)+padding_idx+1, emb_dim, padding_idx=padding_idx, _weight=frozen_weight)\n",
      "        self.frozen_emb.weight.requires_grad = False\n",
      "        trainable_ids = [x for x in range(num_emb) if x not in frozen_id_set]\n",
      "        trainable_weight = torch.cat([torch.zeros(padding_idx + 1, emb_dim), _weight[trainable_ids]], dim=0)\n",
      "        self.trainable_emb = nn.Embedding(num_emb - len(self.frozen_ids) + padding_idx + 1, emb_dim, padding_idx=padding_idx, _weight=trainable_weight)\n",
      "        self.trainable_map = torch.zeros(num_emb, dtype=torch.long) + padding_idx\n",
      "        self.frozen_map = torch.zeros(num_emb, dtype=torch.long) + padding_idx\n",
      "        frozen_idx = padding_idx + 1\n",
      "        trainable_idx = padding_idx + 1\n",
      "        for i in range(num_emb):\n",
      "            if i == padding_idx:\n",
      "                trainable_idx += 1\n",
      "                continue\n",
      "            elif i in frozen_id_set:\n",
      "                self.frozen_map[i] = frozen_idx\n",
      "                frozen_idx += 1\n",
      "            else:\n",
      "                self.trainable_map[i] = trainable_idx\n",
      "                trainable_idx += 1\n",
      "\n",
      "    def forward(self, *input):\n",
      "        text_input = input[0]\n",
      "        self.trainable_map = self.trainable_map.to(text_input.device)\n",
      "        self.frozen_map = self.frozen_map.to(text_input.device)\n",
      "        trainable = self.trainable_emb(self.trainable_map[text_input])\n",
      "        frozen = self.frozen_emb(self.frozen_map[text_input])\n",
      "        return trainable + frozen\n",
      "\n",
      "    def semi_freeze(self):\n",
      "        self.frozen_emb.weight.requires_grad = False\n",
      "\n",
      "    def semi_unfreeze(self):\n",
      "        self.frozen_emb.weight.requires_grad = True\n",
      "\n"
     ]
    }
   ],
   "source": [
    "from SemiFrozenV2 import SemiFrozenEmbedding\n",
    "import inspect\n",
    "print(inspect.getsource(SemiFrozenEmbedding))"
   ]
  },
  {
   "cell_type": "markdown",
   "metadata": {},
   "source": [
    "## Model\n",
    "Our architecture will consist of a simple embedding->bidir-LSTM->Linear model with some added dropout."
   ]
  },
  {
   "cell_type": "code",
   "execution_count": 15,
   "metadata": {},
   "outputs": [],
   "source": [
    "import torch.nn as nn\n",
    "import torch\n",
    "from fastai.text import WeightDropout, RNNDropout"
   ]
  },
  {
   "cell_type": "code",
   "execution_count": 16,
   "metadata": {},
   "outputs": [],
   "source": [
    "class SimpleModel(nn.Module):\n",
    "    \n",
    "    def __init__(self, emb, lstm_size):\n",
    "        super().__init__()\n",
    "        self.emb = emb\n",
    "        self.lstm = WeightDropout(nn.LSTM(emb.embedding_dim, lstm_size, num_layers=1, bidirectional=True),weight_p=0.2)\n",
    "        self.linear = nn.Linear(lstm_size, 1)\n",
    "        self.rnn_drop = RNNDropout()\n",
    "\n",
    "    def forward(self, inputs):\n",
    "        inputs = inputs.long().t()\n",
    "        emb = self.emb(inputs)\n",
    "        emb = self.rnn_drop(emb)\n",
    "        enc = self.lstm(emb)[-1][-1][-1]\n",
    "        res = self.linear(enc)\n",
    "        res = res.squeeze(-1)\n",
    "        return res\n",
    "    \n",
    "    def reset(self):\n",
    "        pass\n",
    "    \n",
    "    \n",
    "def simple_split(model):\n",
    "    return [[model.emb], [model.lstm], [model.linear]]"
   ]
  },
  {
   "cell_type": "code",
   "execution_count": 17,
   "metadata": {},
   "outputs": [
    {
     "data": {
      "text/plain": [
       "[9, 10, 11, 12, 13, 14, 15, 16, 17, 18]"
      ]
     },
     "execution_count": 17,
     "metadata": {},
     "output_type": "execute_result"
    }
   ],
   "source": [
    "semifrozen_ids = [i for i in range(len(vocab.itos)) if i not in missing]\n",
    "semifrozen_ids[:10]"
   ]
  },
  {
   "cell_type": "code",
   "execution_count": 18,
   "metadata": {},
   "outputs": [
    {
     "data": {
      "text/plain": [
       "SimpleModel(\n",
       "  (emb): SemiFrozenEmbedding(\n",
       "    (frozen_emb): Embedding(6888, 300, padding_idx=1)\n",
       "    (trainable_emb): Embedding(316, 300, padding_idx=1)\n",
       "  )\n",
       "  (lstm): WeightDropout(\n",
       "    (module): LSTM(300, 300, bidirectional=True)\n",
       "  )\n",
       "  (linear): Linear(in_features=300, out_features=1, bias=True)\n",
       "  (rnn_drop): RNNDropout()\n",
       ")"
      ]
     },
     "execution_count": 18,
     "metadata": {},
     "output_type": "execute_result"
    }
   ],
   "source": [
    "sfe = SemiFrozenEmbedding(pretrained.shape[0], pretrained.shape[1], frozen_ids=semifrozen_ids,_weight=torch.FloatTensor(pretrained),padding_idx=1)\n",
    "model = SimpleModel(sfe, 300)\n",
    "model"
   ]
  },
  {
   "cell_type": "code",
   "execution_count": 19,
   "metadata": {},
   "outputs": [],
   "source": [
    "from fastai.text import DataLoader, RNNLearner, Learner, pad_collate\n",
    "from fastai.metrics import accuracy_thresh, fbeta\n",
    "from torch.nn.modules.loss import BCELoss, BCEWithLogitsLoss\n",
    "\n",
    "\n",
    "def wrapped_fbeta(xs ,ys):\n",
    "    return fbeta(xs[None], ys[None],thresh=0.3)\n",
    "\n",
    "class LossWrapper():\n",
    "\n",
    "    def __init__(self, loss):\n",
    "        self.loss = loss\n",
    "\n",
    "    def __call__(self, outputs, targets):\n",
    "        return self.loss(outputs, targets.float())\n",
    "\n",
    "\n"
   ]
  },
  {
   "cell_type": "code",
   "execution_count": 20,
   "metadata": {},
   "outputs": [],
   "source": [
    "def fit(learner):\n",
    "    learner.fit_one_cycle(1, 3e-3)\n",
    "    learner.fit_one_cycle(1, 3e-3)\n",
    "    learner.fit_one_cycle(1, 3e-3)\n",
    "    learner.fit_one_cycle(3, 3e-3)\n",
    "    learner.fit_one_cycle(10, 3e-3)"
   ]
  },
  {
   "cell_type": "markdown",
   "metadata": {},
   "source": [
    "# Random Init"
   ]
  },
  {
   "cell_type": "markdown",
   "metadata": {},
   "source": [
    "In the Random init experiment we will use the standard `nn.Embedding` layer with a **random init** to compute the embeddings and train from scratch."
   ]
  },
  {
   "cell_type": "code",
   "execution_count": 21,
   "metadata": {},
   "outputs": [
    {
     "data": {
      "text/plain": [
       "SimpleModel(\n",
       "  (emb): Embedding(7200, 300, padding_idx=1)\n",
       "  (lstm): WeightDropout(\n",
       "    (module): LSTM(300, 300, bidirectional=True)\n",
       "  )\n",
       "  (linear): Linear(in_features=300, out_features=1, bias=True)\n",
       "  (rnn_drop): RNNDropout()\n",
       ")"
      ]
     },
     "execution_count": 21,
     "metadata": {},
     "output_type": "execute_result"
    }
   ],
   "source": [
    "sfe = Embedding(pretrained.shape[0], pretrained.shape[1],padding_idx=1)\n",
    "model = SimpleModel(sfe, 300)\n",
    "model"
   ]
  },
  {
   "cell_type": "code",
   "execution_count": 22,
   "metadata": {},
   "outputs": [],
   "source": [
    "random_learn = Learner(db, model, \n",
    "                       loss_func=LossWrapper(BCEWithLogitsLoss(pos_weight=torch.FloatTensor([3]).cuda())),\n",
    "                      metrics=[accuracy_thresh, wrapped_fbeta])"
   ]
  },
  {
   "cell_type": "code",
   "execution_count": 23,
   "metadata": {},
   "outputs": [
    {
     "data": {
      "text/html": [
       "Total time: 00:12 <p><table border=\"1\" class=\"dataframe\">\n",
       "  <thead>\n",
       "    <tr style=\"text-align: left;\">\n",
       "      <th>epoch</th>\n",
       "      <th>train_loss</th>\n",
       "      <th>valid_loss</th>\n",
       "      <th>accuracy_thresh</th>\n",
       "      <th>wrapped_fbeta</th>\n",
       "      <th>time</th>\n",
       "    </tr>\n",
       "  </thead>\n",
       "  <tbody>\n",
       "    <tr>\n",
       "      <td>0</td>\n",
       "      <td>1.029042</td>\n",
       "      <td>1.067159</td>\n",
       "      <td>0.275214</td>\n",
       "      <td>0.598381</td>\n",
       "      <td>00:12</td>\n",
       "    </tr>\n",
       "  </tbody>\n",
       "</table>"
      ],
      "text/plain": [
       "<IPython.core.display.HTML object>"
      ]
     },
     "metadata": {},
     "output_type": "display_data"
    },
    {
     "data": {
      "text/html": [
       "Total time: 00:11 <p><table border=\"1\" class=\"dataframe\">\n",
       "  <thead>\n",
       "    <tr style=\"text-align: left;\">\n",
       "      <th>epoch</th>\n",
       "      <th>train_loss</th>\n",
       "      <th>valid_loss</th>\n",
       "      <th>accuracy_thresh</th>\n",
       "      <th>wrapped_fbeta</th>\n",
       "      <th>time</th>\n",
       "    </tr>\n",
       "  </thead>\n",
       "  <tbody>\n",
       "    <tr>\n",
       "      <td>0</td>\n",
       "      <td>1.049066</td>\n",
       "      <td>1.042152</td>\n",
       "      <td>0.474291</td>\n",
       "      <td>0.601381</td>\n",
       "      <td>00:11</td>\n",
       "    </tr>\n",
       "  </tbody>\n",
       "</table>"
      ],
      "text/plain": [
       "<IPython.core.display.HTML object>"
      ]
     },
     "metadata": {},
     "output_type": "display_data"
    },
    {
     "data": {
      "text/html": [
       "Total time: 00:12 <p><table border=\"1\" class=\"dataframe\">\n",
       "  <thead>\n",
       "    <tr style=\"text-align: left;\">\n",
       "      <th>epoch</th>\n",
       "      <th>train_loss</th>\n",
       "      <th>valid_loss</th>\n",
       "      <th>accuracy_thresh</th>\n",
       "      <th>wrapped_fbeta</th>\n",
       "      <th>time</th>\n",
       "    </tr>\n",
       "  </thead>\n",
       "  <tbody>\n",
       "    <tr>\n",
       "      <td>0</td>\n",
       "      <td>1.000106</td>\n",
       "      <td>1.011226</td>\n",
       "      <td>0.515491</td>\n",
       "      <td>0.601878</td>\n",
       "      <td>00:12</td>\n",
       "    </tr>\n",
       "  </tbody>\n",
       "</table>"
      ],
      "text/plain": [
       "<IPython.core.display.HTML object>"
      ]
     },
     "metadata": {},
     "output_type": "display_data"
    },
    {
     "data": {
      "text/html": [
       "Total time: 00:37 <p><table border=\"1\" class=\"dataframe\">\n",
       "  <thead>\n",
       "    <tr style=\"text-align: left;\">\n",
       "      <th>epoch</th>\n",
       "      <th>train_loss</th>\n",
       "      <th>valid_loss</th>\n",
       "      <th>accuracy_thresh</th>\n",
       "      <th>wrapped_fbeta</th>\n",
       "      <th>time</th>\n",
       "    </tr>\n",
       "  </thead>\n",
       "  <tbody>\n",
       "    <tr>\n",
       "      <td>0</td>\n",
       "      <td>0.978392</td>\n",
       "      <td>0.998872</td>\n",
       "      <td>0.589980</td>\n",
       "      <td>0.603536</td>\n",
       "      <td>00:12</td>\n",
       "    </tr>\n",
       "    <tr>\n",
       "      <td>1</td>\n",
       "      <td>0.949748</td>\n",
       "      <td>0.965295</td>\n",
       "      <td>0.616678</td>\n",
       "      <td>0.609664</td>\n",
       "      <td>00:12</td>\n",
       "    </tr>\n",
       "    <tr>\n",
       "      <td>2</td>\n",
       "      <td>0.850477</td>\n",
       "      <td>0.979596</td>\n",
       "      <td>0.671721</td>\n",
       "      <td>0.587239</td>\n",
       "      <td>00:12</td>\n",
       "    </tr>\n",
       "  </tbody>\n",
       "</table>"
      ],
      "text/plain": [
       "<IPython.core.display.HTML object>"
      ]
     },
     "metadata": {},
     "output_type": "display_data"
    },
    {
     "data": {
      "text/html": [
       "Total time: 02:05 <p><table border=\"1\" class=\"dataframe\">\n",
       "  <thead>\n",
       "    <tr style=\"text-align: left;\">\n",
       "      <th>epoch</th>\n",
       "      <th>train_loss</th>\n",
       "      <th>valid_loss</th>\n",
       "      <th>accuracy_thresh</th>\n",
       "      <th>wrapped_fbeta</th>\n",
       "      <th>time</th>\n",
       "    </tr>\n",
       "  </thead>\n",
       "  <tbody>\n",
       "    <tr>\n",
       "      <td>0</td>\n",
       "      <td>0.835242</td>\n",
       "      <td>0.984983</td>\n",
       "      <td>0.680620</td>\n",
       "      <td>0.585300</td>\n",
       "      <td>00:12</td>\n",
       "    </tr>\n",
       "    <tr>\n",
       "      <td>1</td>\n",
       "      <td>0.841039</td>\n",
       "      <td>0.985263</td>\n",
       "      <td>0.701714</td>\n",
       "      <td>0.581334</td>\n",
       "      <td>00:12</td>\n",
       "    </tr>\n",
       "    <tr>\n",
       "      <td>2</td>\n",
       "      <td>0.907812</td>\n",
       "      <td>0.999830</td>\n",
       "      <td>0.672380</td>\n",
       "      <td>0.602800</td>\n",
       "      <td>00:12</td>\n",
       "    </tr>\n",
       "    <tr>\n",
       "      <td>3</td>\n",
       "      <td>0.827893</td>\n",
       "      <td>1.034017</td>\n",
       "      <td>0.655570</td>\n",
       "      <td>0.607041</td>\n",
       "      <td>00:12</td>\n",
       "    </tr>\n",
       "    <tr>\n",
       "      <td>4</td>\n",
       "      <td>0.765401</td>\n",
       "      <td>1.038271</td>\n",
       "      <td>0.698418</td>\n",
       "      <td>0.591445</td>\n",
       "      <td>00:13</td>\n",
       "    </tr>\n",
       "    <tr>\n",
       "      <td>5</td>\n",
       "      <td>0.688598</td>\n",
       "      <td>1.034798</td>\n",
       "      <td>0.713909</td>\n",
       "      <td>0.594546</td>\n",
       "      <td>00:12</td>\n",
       "    </tr>\n",
       "    <tr>\n",
       "      <td>6</td>\n",
       "      <td>0.638168</td>\n",
       "      <td>1.139107</td>\n",
       "      <td>0.702703</td>\n",
       "      <td>0.594078</td>\n",
       "      <td>00:12</td>\n",
       "    </tr>\n",
       "    <tr>\n",
       "      <td>7</td>\n",
       "      <td>0.611393</td>\n",
       "      <td>1.063503</td>\n",
       "      <td>0.696440</td>\n",
       "      <td>0.593016</td>\n",
       "      <td>00:13</td>\n",
       "    </tr>\n",
       "    <tr>\n",
       "      <td>8</td>\n",
       "      <td>0.584150</td>\n",
       "      <td>1.158759</td>\n",
       "      <td>0.714568</td>\n",
       "      <td>0.577033</td>\n",
       "      <td>00:12</td>\n",
       "    </tr>\n",
       "    <tr>\n",
       "      <td>9</td>\n",
       "      <td>0.569277</td>\n",
       "      <td>1.182415</td>\n",
       "      <td>0.715887</td>\n",
       "      <td>0.575252</td>\n",
       "      <td>00:12</td>\n",
       "    </tr>\n",
       "  </tbody>\n",
       "</table>"
      ],
      "text/plain": [
       "<IPython.core.display.HTML object>"
      ]
     },
     "metadata": {},
     "output_type": "display_data"
    }
   ],
   "source": [
    "fit(random_learn)"
   ]
  },
  {
   "cell_type": "markdown",
   "metadata": {},
   "source": [
    "# Pretrained - Frozen"
   ]
  },
  {
   "cell_type": "markdown",
   "metadata": {},
   "source": [
    "In the pretrained frozen experiment we use the **pretrained embeddings**, but **leave them frozen**."
   ]
  },
  {
   "cell_type": "code",
   "execution_count": 25,
   "metadata": {},
   "outputs": [
    {
     "data": {
      "text/plain": [
       "SimpleModel(\n",
       "  (emb): SemiFrozenEmbedding(\n",
       "    (frozen_emb): Embedding(2, 300, padding_idx=1)\n",
       "    (trainable_emb): Embedding(7202, 300, padding_idx=1)\n",
       "  )\n",
       "  (lstm): WeightDropout(\n",
       "    (module): LSTM(300, 300, bidirectional=True)\n",
       "  )\n",
       "  (linear): Linear(in_features=300, out_features=1, bias=True)\n",
       "  (rnn_drop): RNNDropout()\n",
       ")"
      ]
     },
     "execution_count": 25,
     "metadata": {},
     "output_type": "execute_result"
    }
   ],
   "source": [
    "sfe = SemiFrozenEmbedding(pretrained.shape[0], pretrained.shape[1],padding_idx=1, _weight=torch.FloatTensor(pretrained))\n",
    "model = SimpleModel(sfe, 300)\n",
    "model"
   ]
  },
  {
   "cell_type": "code",
   "execution_count": 26,
   "metadata": {},
   "outputs": [],
   "source": [
    "frozen_learn = Learner(db, model, \n",
    "                       loss_func=LossWrapper(BCEWithLogitsLoss(pos_weight=torch.FloatTensor([3]).cuda())),\n",
    "                      metrics=[accuracy_thresh, wrapped_fbeta])\n",
    "frozen_learn.model.emb.frozen_emb.weight.requires_grad\n",
    "frozen_learn.model.emb.trainable_emb.weight.requires_grad = False"
   ]
  },
  {
   "cell_type": "code",
   "execution_count": 27,
   "metadata": {},
   "outputs": [
    {
     "data": {
      "text/html": [
       "Total time: 00:11 <p><table border=\"1\" class=\"dataframe\">\n",
       "  <thead>\n",
       "    <tr style=\"text-align: left;\">\n",
       "      <th>epoch</th>\n",
       "      <th>train_loss</th>\n",
       "      <th>valid_loss</th>\n",
       "      <th>accuracy_thresh</th>\n",
       "      <th>wrapped_fbeta</th>\n",
       "      <th>time</th>\n",
       "    </tr>\n",
       "  </thead>\n",
       "  <tbody>\n",
       "    <tr>\n",
       "      <td>0</td>\n",
       "      <td>1.036949</td>\n",
       "      <td>1.064255</td>\n",
       "      <td>0.280817</td>\n",
       "      <td>0.598381</td>\n",
       "      <td>00:11</td>\n",
       "    </tr>\n",
       "  </tbody>\n",
       "</table>"
      ],
      "text/plain": [
       "<IPython.core.display.HTML object>"
      ]
     },
     "metadata": {},
     "output_type": "display_data"
    },
    {
     "data": {
      "text/html": [
       "Total time: 00:11 <p><table border=\"1\" class=\"dataframe\">\n",
       "  <thead>\n",
       "    <tr style=\"text-align: left;\">\n",
       "      <th>epoch</th>\n",
       "      <th>train_loss</th>\n",
       "      <th>valid_loss</th>\n",
       "      <th>accuracy_thresh</th>\n",
       "      <th>wrapped_fbeta</th>\n",
       "      <th>time</th>\n",
       "    </tr>\n",
       "  </thead>\n",
       "  <tbody>\n",
       "    <tr>\n",
       "      <td>0</td>\n",
       "      <td>1.030553</td>\n",
       "      <td>0.995903</td>\n",
       "      <td>0.546473</td>\n",
       "      <td>0.598381</td>\n",
       "      <td>00:11</td>\n",
       "    </tr>\n",
       "  </tbody>\n",
       "</table>"
      ],
      "text/plain": [
       "<IPython.core.display.HTML object>"
      ]
     },
     "metadata": {},
     "output_type": "display_data"
    },
    {
     "data": {
      "text/html": [
       "Total time: 00:10 <p><table border=\"1\" class=\"dataframe\">\n",
       "  <thead>\n",
       "    <tr style=\"text-align: left;\">\n",
       "      <th>epoch</th>\n",
       "      <th>train_loss</th>\n",
       "      <th>valid_loss</th>\n",
       "      <th>accuracy_thresh</th>\n",
       "      <th>wrapped_fbeta</th>\n",
       "      <th>time</th>\n",
       "    </tr>\n",
       "  </thead>\n",
       "  <tbody>\n",
       "    <tr>\n",
       "      <td>0</td>\n",
       "      <td>0.962933</td>\n",
       "      <td>0.934779</td>\n",
       "      <td>0.680290</td>\n",
       "      <td>0.607184</td>\n",
       "      <td>00:10</td>\n",
       "    </tr>\n",
       "  </tbody>\n",
       "</table>"
      ],
      "text/plain": [
       "<IPython.core.display.HTML object>"
      ]
     },
     "metadata": {},
     "output_type": "display_data"
    },
    {
     "data": {
      "text/html": [
       "Total time: 00:33 <p><table border=\"1\" class=\"dataframe\">\n",
       "  <thead>\n",
       "    <tr style=\"text-align: left;\">\n",
       "      <th>epoch</th>\n",
       "      <th>train_loss</th>\n",
       "      <th>valid_loss</th>\n",
       "      <th>accuracy_thresh</th>\n",
       "      <th>wrapped_fbeta</th>\n",
       "      <th>time</th>\n",
       "    </tr>\n",
       "  </thead>\n",
       "  <tbody>\n",
       "    <tr>\n",
       "      <td>0</td>\n",
       "      <td>0.986335</td>\n",
       "      <td>0.926020</td>\n",
       "      <td>0.700066</td>\n",
       "      <td>0.607717</td>\n",
       "      <td>00:10</td>\n",
       "    </tr>\n",
       "    <tr>\n",
       "      <td>1</td>\n",
       "      <td>0.916995</td>\n",
       "      <td>0.873688</td>\n",
       "      <td>0.707976</td>\n",
       "      <td>0.637015</td>\n",
       "      <td>00:10</td>\n",
       "    </tr>\n",
       "    <tr>\n",
       "      <td>2</td>\n",
       "      <td>0.825625</td>\n",
       "      <td>0.860901</td>\n",
       "      <td>0.704680</td>\n",
       "      <td>0.645452</td>\n",
       "      <td>00:11</td>\n",
       "    </tr>\n",
       "  </tbody>\n",
       "</table>"
      ],
      "text/plain": [
       "<IPython.core.display.HTML object>"
      ]
     },
     "metadata": {},
     "output_type": "display_data"
    },
    {
     "data": {
      "text/html": [
       "Total time: 01:48 <p><table border=\"1\" class=\"dataframe\">\n",
       "  <thead>\n",
       "    <tr style=\"text-align: left;\">\n",
       "      <th>epoch</th>\n",
       "      <th>train_loss</th>\n",
       "      <th>valid_loss</th>\n",
       "      <th>accuracy_thresh</th>\n",
       "      <th>wrapped_fbeta</th>\n",
       "      <th>time</th>\n",
       "    </tr>\n",
       "  </thead>\n",
       "  <tbody>\n",
       "    <tr>\n",
       "      <td>0</td>\n",
       "      <td>0.833497</td>\n",
       "      <td>0.861387</td>\n",
       "      <td>0.682268</td>\n",
       "      <td>0.645737</td>\n",
       "      <td>00:10</td>\n",
       "    </tr>\n",
       "    <tr>\n",
       "      <td>1</td>\n",
       "      <td>0.846425</td>\n",
       "      <td>0.858780</td>\n",
       "      <td>0.685564</td>\n",
       "      <td>0.642492</td>\n",
       "      <td>00:10</td>\n",
       "    </tr>\n",
       "    <tr>\n",
       "      <td>2</td>\n",
       "      <td>0.831957</td>\n",
       "      <td>0.849927</td>\n",
       "      <td>0.732367</td>\n",
       "      <td>0.641886</td>\n",
       "      <td>00:11</td>\n",
       "    </tr>\n",
       "    <tr>\n",
       "      <td>3</td>\n",
       "      <td>0.807570</td>\n",
       "      <td>0.836830</td>\n",
       "      <td>0.716216</td>\n",
       "      <td>0.643734</td>\n",
       "      <td>00:11</td>\n",
       "    </tr>\n",
       "    <tr>\n",
       "      <td>4</td>\n",
       "      <td>0.769800</td>\n",
       "      <td>0.821819</td>\n",
       "      <td>0.702703</td>\n",
       "      <td>0.643932</td>\n",
       "      <td>00:11</td>\n",
       "    </tr>\n",
       "    <tr>\n",
       "      <td>5</td>\n",
       "      <td>0.761525</td>\n",
       "      <td>0.829930</td>\n",
       "      <td>0.678642</td>\n",
       "      <td>0.643677</td>\n",
       "      <td>00:10</td>\n",
       "    </tr>\n",
       "    <tr>\n",
       "      <td>6</td>\n",
       "      <td>0.775259</td>\n",
       "      <td>0.822776</td>\n",
       "      <td>0.699077</td>\n",
       "      <td>0.647169</td>\n",
       "      <td>00:10</td>\n",
       "    </tr>\n",
       "    <tr>\n",
       "      <td>7</td>\n",
       "      <td>0.726362</td>\n",
       "      <td>0.837371</td>\n",
       "      <td>0.669084</td>\n",
       "      <td>0.647329</td>\n",
       "      <td>00:10</td>\n",
       "    </tr>\n",
       "    <tr>\n",
       "      <td>8</td>\n",
       "      <td>0.706667</td>\n",
       "      <td>0.832002</td>\n",
       "      <td>0.712591</td>\n",
       "      <td>0.649950</td>\n",
       "      <td>00:10</td>\n",
       "    </tr>\n",
       "    <tr>\n",
       "      <td>9</td>\n",
       "      <td>0.679742</td>\n",
       "      <td>0.834950</td>\n",
       "      <td>0.713579</td>\n",
       "      <td>0.649631</td>\n",
       "      <td>00:11</td>\n",
       "    </tr>\n",
       "  </tbody>\n",
       "</table>"
      ],
      "text/plain": [
       "<IPython.core.display.HTML object>"
      ]
     },
     "metadata": {},
     "output_type": "display_data"
    }
   ],
   "source": [
    "fit(frozen_learn)"
   ]
  },
  {
   "cell_type": "markdown",
   "metadata": {},
   "source": [
    "# Pretrained - unfrozen"
   ]
  },
  {
   "cell_type": "markdown",
   "metadata": {},
   "source": [
    "In the Unfrozen experiment we use the **pretrained embeddings**, but **unfreeze the entire layer**."
   ]
  },
  {
   "cell_type": "code",
   "execution_count": 28,
   "metadata": {},
   "outputs": [
    {
     "data": {
      "text/plain": [
       "SimpleModel(\n",
       "  (emb): SemiFrozenEmbedding(\n",
       "    (frozen_emb): Embedding(2, 300, padding_idx=1)\n",
       "    (trainable_emb): Embedding(7202, 300, padding_idx=1)\n",
       "  )\n",
       "  (lstm): WeightDropout(\n",
       "    (module): LSTM(300, 300, bidirectional=True)\n",
       "  )\n",
       "  (linear): Linear(in_features=300, out_features=1, bias=True)\n",
       "  (rnn_drop): RNNDropout()\n",
       ")"
      ]
     },
     "execution_count": 28,
     "metadata": {},
     "output_type": "execute_result"
    }
   ],
   "source": [
    "sfe = SemiFrozenEmbedding(pretrained.shape[0], pretrained.shape[1],padding_idx=1, _weight=torch.FloatTensor(pretrained))\n",
    "model = SimpleModel(sfe, 300)\n",
    "model"
   ]
  },
  {
   "cell_type": "code",
   "execution_count": 29,
   "metadata": {},
   "outputs": [],
   "source": [
    "unfrozen_learn = Learner(db, model, \n",
    "                       loss_func=LossWrapper(BCEWithLogitsLoss(pos_weight=torch.FloatTensor([3]).cuda())),\n",
    "                      metrics=[accuracy_thresh, wrapped_fbeta])\n",
    "unfrozen_learn.model.emb.frozen_emb.weight.requires_grad=True\n",
    "unfrozen_learn.model.emb.trainable_emb.weight.requires_grad=True"
   ]
  },
  {
   "cell_type": "code",
   "execution_count": 30,
   "metadata": {},
   "outputs": [
    {
     "data": {
      "text/html": [
       "Total time: 00:13 <p><table border=\"1\" class=\"dataframe\">\n",
       "  <thead>\n",
       "    <tr style=\"text-align: left;\">\n",
       "      <th>epoch</th>\n",
       "      <th>train_loss</th>\n",
       "      <th>valid_loss</th>\n",
       "      <th>accuracy_thresh</th>\n",
       "      <th>wrapped_fbeta</th>\n",
       "      <th>time</th>\n",
       "    </tr>\n",
       "  </thead>\n",
       "  <tbody>\n",
       "    <tr>\n",
       "      <td>0</td>\n",
       "      <td>1.018129</td>\n",
       "      <td>1.077604</td>\n",
       "      <td>0.345089</td>\n",
       "      <td>0.598688</td>\n",
       "      <td>00:13</td>\n",
       "    </tr>\n",
       "  </tbody>\n",
       "</table>"
      ],
      "text/plain": [
       "<IPython.core.display.HTML object>"
      ]
     },
     "metadata": {},
     "output_type": "display_data"
    },
    {
     "data": {
      "text/html": [
       "Total time: 00:12 <p><table border=\"1\" class=\"dataframe\">\n",
       "  <thead>\n",
       "    <tr style=\"text-align: left;\">\n",
       "      <th>epoch</th>\n",
       "      <th>train_loss</th>\n",
       "      <th>valid_loss</th>\n",
       "      <th>accuracy_thresh</th>\n",
       "      <th>wrapped_fbeta</th>\n",
       "      <th>time</th>\n",
       "    </tr>\n",
       "  </thead>\n",
       "  <tbody>\n",
       "    <tr>\n",
       "      <td>0</td>\n",
       "      <td>0.994179</td>\n",
       "      <td>0.986560</td>\n",
       "      <td>0.572512</td>\n",
       "      <td>0.598381</td>\n",
       "      <td>00:12</td>\n",
       "    </tr>\n",
       "  </tbody>\n",
       "</table>"
      ],
      "text/plain": [
       "<IPython.core.display.HTML object>"
      ]
     },
     "metadata": {},
     "output_type": "display_data"
    },
    {
     "data": {
      "text/html": [
       "Total time: 00:12 <p><table border=\"1\" class=\"dataframe\">\n",
       "  <thead>\n",
       "    <tr style=\"text-align: left;\">\n",
       "      <th>epoch</th>\n",
       "      <th>train_loss</th>\n",
       "      <th>valid_loss</th>\n",
       "      <th>accuracy_thresh</th>\n",
       "      <th>wrapped_fbeta</th>\n",
       "      <th>time</th>\n",
       "    </tr>\n",
       "  </thead>\n",
       "  <tbody>\n",
       "    <tr>\n",
       "      <td>0</td>\n",
       "      <td>0.882321</td>\n",
       "      <td>0.908238</td>\n",
       "      <td>0.637113</td>\n",
       "      <td>0.629900</td>\n",
       "      <td>00:12</td>\n",
       "    </tr>\n",
       "  </tbody>\n",
       "</table>"
      ],
      "text/plain": [
       "<IPython.core.display.HTML object>"
      ]
     },
     "metadata": {},
     "output_type": "display_data"
    },
    {
     "data": {
      "text/html": [
       "Total time: 00:39 <p><table border=\"1\" class=\"dataframe\">\n",
       "  <thead>\n",
       "    <tr style=\"text-align: left;\">\n",
       "      <th>epoch</th>\n",
       "      <th>train_loss</th>\n",
       "      <th>valid_loss</th>\n",
       "      <th>accuracy_thresh</th>\n",
       "      <th>wrapped_fbeta</th>\n",
       "      <th>time</th>\n",
       "    </tr>\n",
       "  </thead>\n",
       "  <tbody>\n",
       "    <tr>\n",
       "      <td>0</td>\n",
       "      <td>0.844862</td>\n",
       "      <td>0.912007</td>\n",
       "      <td>0.694792</td>\n",
       "      <td>0.610707</td>\n",
       "      <td>00:12</td>\n",
       "    </tr>\n",
       "    <tr>\n",
       "      <td>1</td>\n",
       "      <td>0.777872</td>\n",
       "      <td>0.876190</td>\n",
       "      <td>0.681279</td>\n",
       "      <td>0.633756</td>\n",
       "      <td>00:12</td>\n",
       "    </tr>\n",
       "    <tr>\n",
       "      <td>2</td>\n",
       "      <td>0.689861</td>\n",
       "      <td>0.877331</td>\n",
       "      <td>0.738629</td>\n",
       "      <td>0.622419</td>\n",
       "      <td>00:13</td>\n",
       "    </tr>\n",
       "  </tbody>\n",
       "</table>"
      ],
      "text/plain": [
       "<IPython.core.display.HTML object>"
      ]
     },
     "metadata": {},
     "output_type": "display_data"
    },
    {
     "data": {
      "text/html": [
       "Total time: 02:06 <p><table border=\"1\" class=\"dataframe\">\n",
       "  <thead>\n",
       "    <tr style=\"text-align: left;\">\n",
       "      <th>epoch</th>\n",
       "      <th>train_loss</th>\n",
       "      <th>valid_loss</th>\n",
       "      <th>accuracy_thresh</th>\n",
       "      <th>wrapped_fbeta</th>\n",
       "      <th>time</th>\n",
       "    </tr>\n",
       "  </thead>\n",
       "  <tbody>\n",
       "    <tr>\n",
       "      <td>0</td>\n",
       "      <td>0.637705</td>\n",
       "      <td>0.901254</td>\n",
       "      <td>0.739618</td>\n",
       "      <td>0.628486</td>\n",
       "      <td>00:12</td>\n",
       "    </tr>\n",
       "    <tr>\n",
       "      <td>1</td>\n",
       "      <td>0.656464</td>\n",
       "      <td>0.892994</td>\n",
       "      <td>0.714568</td>\n",
       "      <td>0.624104</td>\n",
       "      <td>00:11</td>\n",
       "    </tr>\n",
       "    <tr>\n",
       "      <td>2</td>\n",
       "      <td>0.600205</td>\n",
       "      <td>0.879418</td>\n",
       "      <td>0.725115</td>\n",
       "      <td>0.627375</td>\n",
       "      <td>00:12</td>\n",
       "    </tr>\n",
       "    <tr>\n",
       "      <td>3</td>\n",
       "      <td>0.595047</td>\n",
       "      <td>0.905646</td>\n",
       "      <td>0.751483</td>\n",
       "      <td>0.623657</td>\n",
       "      <td>00:13</td>\n",
       "    </tr>\n",
       "    <tr>\n",
       "      <td>4</td>\n",
       "      <td>0.479090</td>\n",
       "      <td>1.130373</td>\n",
       "      <td>0.735333</td>\n",
       "      <td>0.615082</td>\n",
       "      <td>00:13</td>\n",
       "    </tr>\n",
       "    <tr>\n",
       "      <td>5</td>\n",
       "      <td>0.419607</td>\n",
       "      <td>1.305805</td>\n",
       "      <td>0.741925</td>\n",
       "      <td>0.592370</td>\n",
       "      <td>00:11</td>\n",
       "    </tr>\n",
       "    <tr>\n",
       "      <td>6</td>\n",
       "      <td>0.340979</td>\n",
       "      <td>1.338840</td>\n",
       "      <td>0.742584</td>\n",
       "      <td>0.595536</td>\n",
       "      <td>00:12</td>\n",
       "    </tr>\n",
       "    <tr>\n",
       "      <td>7</td>\n",
       "      <td>0.325194</td>\n",
       "      <td>1.516280</td>\n",
       "      <td>0.737970</td>\n",
       "      <td>0.586759</td>\n",
       "      <td>00:12</td>\n",
       "    </tr>\n",
       "    <tr>\n",
       "      <td>8</td>\n",
       "      <td>0.270852</td>\n",
       "      <td>1.778989</td>\n",
       "      <td>0.747528</td>\n",
       "      <td>0.564778</td>\n",
       "      <td>00:13</td>\n",
       "    </tr>\n",
       "    <tr>\n",
       "      <td>9</td>\n",
       "      <td>0.270078</td>\n",
       "      <td>1.710248</td>\n",
       "      <td>0.746210</td>\n",
       "      <td>0.571311</td>\n",
       "      <td>00:12</td>\n",
       "    </tr>\n",
       "  </tbody>\n",
       "</table>"
      ],
      "text/plain": [
       "<IPython.core.display.HTML object>"
      ]
     },
     "metadata": {},
     "output_type": "display_data"
    }
   ],
   "source": [
    "fit(unfrozen_learn)"
   ]
  },
  {
   "cell_type": "markdown",
   "metadata": {},
   "source": [
    "# Pretrained semi-frozen"
   ]
  },
  {
   "cell_type": "markdown",
   "metadata": {},
   "source": [
    "Finally, in the semi-frozen experiment we **unfreeze the embeddings for the missing words**, while **leaving the original embeddings frozen**."
   ]
  },
  {
   "cell_type": "code",
   "execution_count": 33,
   "metadata": {},
   "outputs": [
    {
     "data": {
      "text/plain": [
       "SimpleModel(\n",
       "  (emb): SemiFrozenEmbedding(\n",
       "    (frozen_emb): Embedding(6888, 300, padding_idx=1)\n",
       "    (trainable_emb): Embedding(316, 300, padding_idx=1)\n",
       "  )\n",
       "  (lstm): WeightDropout(\n",
       "    (module): LSTM(300, 300, bidirectional=True)\n",
       "  )\n",
       "  (linear): Linear(in_features=300, out_features=1, bias=True)\n",
       "  (rnn_drop): RNNDropout()\n",
       ")"
      ]
     },
     "execution_count": 33,
     "metadata": {},
     "output_type": "execute_result"
    }
   ],
   "source": [
    "sfe = SemiFrozenEmbedding(pretrained.shape[0], pretrained.shape[1],padding_idx=1, \n",
    "                          frozen_ids= semifrozen_ids,\n",
    "                          _weight=torch.FloatTensor(pretrained))\n",
    "model = SimpleModel(sfe, 300)\n",
    "model"
   ]
  },
  {
   "cell_type": "code",
   "execution_count": 34,
   "metadata": {},
   "outputs": [],
   "source": [
    "semifrozen_learn = Learner(db, model, \n",
    "                       loss_func=LossWrapper(BCEWithLogitsLoss(pos_weight=torch.FloatTensor([3]).cuda())),\n",
    "                      metrics=[accuracy_thresh, wrapped_fbeta])\n",
    "semifrozen_learn.model.emb.trainable_emb.weight.requires_grad=True\n",
    "semifrozen_learn.model.emb.semi_freeze()"
   ]
  },
  {
   "cell_type": "code",
   "execution_count": 35,
   "metadata": {},
   "outputs": [
    {
     "data": {
      "text/html": [
       "Total time: 00:11 <p><table border=\"1\" class=\"dataframe\">\n",
       "  <thead>\n",
       "    <tr style=\"text-align: left;\">\n",
       "      <th>epoch</th>\n",
       "      <th>train_loss</th>\n",
       "      <th>valid_loss</th>\n",
       "      <th>accuracy_thresh</th>\n",
       "      <th>wrapped_fbeta</th>\n",
       "      <th>time</th>\n",
       "    </tr>\n",
       "  </thead>\n",
       "  <tbody>\n",
       "    <tr>\n",
       "      <td>0</td>\n",
       "      <td>1.030779</td>\n",
       "      <td>1.052817</td>\n",
       "      <td>0.355636</td>\n",
       "      <td>0.598381</td>\n",
       "      <td>00:11</td>\n",
       "    </tr>\n",
       "  </tbody>\n",
       "</table>"
      ],
      "text/plain": [
       "<IPython.core.display.HTML object>"
      ]
     },
     "metadata": {},
     "output_type": "display_data"
    },
    {
     "data": {
      "text/html": [
       "Total time: 00:12 <p><table border=\"1\" class=\"dataframe\">\n",
       "  <thead>\n",
       "    <tr style=\"text-align: left;\">\n",
       "      <th>epoch</th>\n",
       "      <th>train_loss</th>\n",
       "      <th>valid_loss</th>\n",
       "      <th>accuracy_thresh</th>\n",
       "      <th>wrapped_fbeta</th>\n",
       "      <th>time</th>\n",
       "    </tr>\n",
       "  </thead>\n",
       "  <tbody>\n",
       "    <tr>\n",
       "      <td>0</td>\n",
       "      <td>1.012239</td>\n",
       "      <td>1.033273</td>\n",
       "      <td>0.435069</td>\n",
       "      <td>0.595643</td>\n",
       "      <td>00:12</td>\n",
       "    </tr>\n",
       "  </tbody>\n",
       "</table>"
      ],
      "text/plain": [
       "<IPython.core.display.HTML object>"
      ]
     },
     "metadata": {},
     "output_type": "display_data"
    },
    {
     "data": {
      "text/html": [
       "Total time: 00:11 <p><table border=\"1\" class=\"dataframe\">\n",
       "  <thead>\n",
       "    <tr style=\"text-align: left;\">\n",
       "      <th>epoch</th>\n",
       "      <th>train_loss</th>\n",
       "      <th>valid_loss</th>\n",
       "      <th>accuracy_thresh</th>\n",
       "      <th>wrapped_fbeta</th>\n",
       "      <th>time</th>\n",
       "    </tr>\n",
       "  </thead>\n",
       "  <tbody>\n",
       "    <tr>\n",
       "      <td>0</td>\n",
       "      <td>0.985476</td>\n",
       "      <td>0.967111</td>\n",
       "      <td>0.613711</td>\n",
       "      <td>0.593695</td>\n",
       "      <td>00:11</td>\n",
       "    </tr>\n",
       "  </tbody>\n",
       "</table>"
      ],
      "text/plain": [
       "<IPython.core.display.HTML object>"
      ]
     },
     "metadata": {},
     "output_type": "display_data"
    },
    {
     "data": {
      "text/html": [
       "Total time: 00:34 <p><table border=\"1\" class=\"dataframe\">\n",
       "  <thead>\n",
       "    <tr style=\"text-align: left;\">\n",
       "      <th>epoch</th>\n",
       "      <th>train_loss</th>\n",
       "      <th>valid_loss</th>\n",
       "      <th>accuracy_thresh</th>\n",
       "      <th>wrapped_fbeta</th>\n",
       "      <th>time</th>\n",
       "    </tr>\n",
       "  </thead>\n",
       "  <tbody>\n",
       "    <tr>\n",
       "      <td>0</td>\n",
       "      <td>1.011494</td>\n",
       "      <td>1.017237</td>\n",
       "      <td>0.384970</td>\n",
       "      <td>0.606509</td>\n",
       "      <td>00:11</td>\n",
       "    </tr>\n",
       "    <tr>\n",
       "      <td>1</td>\n",
       "      <td>1.008234</td>\n",
       "      <td>0.969931</td>\n",
       "      <td>0.666777</td>\n",
       "      <td>0.598381</td>\n",
       "      <td>00:11</td>\n",
       "    </tr>\n",
       "    <tr>\n",
       "      <td>2</td>\n",
       "      <td>0.954141</td>\n",
       "      <td>0.973938</td>\n",
       "      <td>0.722479</td>\n",
       "      <td>0.598381</td>\n",
       "      <td>00:11</td>\n",
       "    </tr>\n",
       "  </tbody>\n",
       "</table>"
      ],
      "text/plain": [
       "<IPython.core.display.HTML object>"
      ]
     },
     "metadata": {},
     "output_type": "display_data"
    },
    {
     "data": {
      "text/html": [
       "Total time: 01:57 <p><table border=\"1\" class=\"dataframe\">\n",
       "  <thead>\n",
       "    <tr style=\"text-align: left;\">\n",
       "      <th>epoch</th>\n",
       "      <th>train_loss</th>\n",
       "      <th>valid_loss</th>\n",
       "      <th>accuracy_thresh</th>\n",
       "      <th>wrapped_fbeta</th>\n",
       "      <th>time</th>\n",
       "    </tr>\n",
       "  </thead>\n",
       "  <tbody>\n",
       "    <tr>\n",
       "      <td>0</td>\n",
       "      <td>0.939534</td>\n",
       "      <td>0.992071</td>\n",
       "      <td>0.731707</td>\n",
       "      <td>0.598381</td>\n",
       "      <td>00:10</td>\n",
       "    </tr>\n",
       "    <tr>\n",
       "      <td>1</td>\n",
       "      <td>0.890306</td>\n",
       "      <td>0.900971</td>\n",
       "      <td>0.686882</td>\n",
       "      <td>0.622626</td>\n",
       "      <td>00:12</td>\n",
       "    </tr>\n",
       "    <tr>\n",
       "      <td>2</td>\n",
       "      <td>0.887664</td>\n",
       "      <td>0.871179</td>\n",
       "      <td>0.677653</td>\n",
       "      <td>0.637678</td>\n",
       "      <td>00:12</td>\n",
       "    </tr>\n",
       "    <tr>\n",
       "      <td>3</td>\n",
       "      <td>0.877104</td>\n",
       "      <td>0.951197</td>\n",
       "      <td>0.519446</td>\n",
       "      <td>0.622470</td>\n",
       "      <td>00:11</td>\n",
       "    </tr>\n",
       "    <tr>\n",
       "      <td>4</td>\n",
       "      <td>0.845691</td>\n",
       "      <td>0.832453</td>\n",
       "      <td>0.680949</td>\n",
       "      <td>0.643938</td>\n",
       "      <td>00:11</td>\n",
       "    </tr>\n",
       "    <tr>\n",
       "      <td>5</td>\n",
       "      <td>0.825332</td>\n",
       "      <td>0.838189</td>\n",
       "      <td>0.668095</td>\n",
       "      <td>0.644616</td>\n",
       "      <td>00:11</td>\n",
       "    </tr>\n",
       "    <tr>\n",
       "      <td>6</td>\n",
       "      <td>0.764899</td>\n",
       "      <td>0.842968</td>\n",
       "      <td>0.741266</td>\n",
       "      <td>0.652699</td>\n",
       "      <td>00:11</td>\n",
       "    </tr>\n",
       "    <tr>\n",
       "      <td>7</td>\n",
       "      <td>0.727933</td>\n",
       "      <td>0.828497</td>\n",
       "      <td>0.715887</td>\n",
       "      <td>0.649394</td>\n",
       "      <td>00:12</td>\n",
       "    </tr>\n",
       "    <tr>\n",
       "      <td>8</td>\n",
       "      <td>0.742309</td>\n",
       "      <td>0.825067</td>\n",
       "      <td>0.716546</td>\n",
       "      <td>0.647965</td>\n",
       "      <td>00:11</td>\n",
       "    </tr>\n",
       "    <tr>\n",
       "      <td>9</td>\n",
       "      <td>0.699872</td>\n",
       "      <td>0.824616</td>\n",
       "      <td>0.724127</td>\n",
       "      <td>0.646068</td>\n",
       "      <td>00:11</td>\n",
       "    </tr>\n",
       "  </tbody>\n",
       "</table>"
      ],
      "text/plain": [
       "<IPython.core.display.HTML object>"
      ]
     },
     "metadata": {},
     "output_type": "display_data"
    }
   ],
   "source": [
    "fit(semifrozen_learn)"
   ]
  },
  {
   "cell_type": "markdown",
   "metadata": {},
   "source": [
    "# Plot"
   ]
  },
  {
   "cell_type": "code",
   "execution_count": 36,
   "metadata": {},
   "outputs": [],
   "source": [
    "import matplotlib.pyplot as plt\n",
    "import seaborn as sns\n",
    "sns.set_style('whitegrid')\n",
    "%matplotlib inline"
   ]
  },
  {
   "cell_type": "code",
   "execution_count": 37,
   "metadata": {},
   "outputs": [
    {
     "data": {
      "text/plain": [
       "<matplotlib.legend.Legend at 0x7f975d0bad30>"
      ]
     },
     "execution_count": 37,
     "metadata": {},
     "output_type": "execute_result"
    },
    {
     "data": {
      "image/png": "[encoded data removed]",
      "text/plain": [
       "<Figure size 1152x360 with 1 Axes>"
      ]
     },
     "metadata": {},
     "output_type": "display_data"
    }
   ],
   "source": [
    "fig, ax = plt.subplots(1,1, figsize=(16,5), sharex=True)\n",
    "sns.despine(fig)\n",
    "ax.plot(frozen_learn.recorder.val_losses,label='Frozen', lw=4)\n",
    "ax.plot(semifrozen_learn.recorder.val_losses,label='Semifrozen', lw=4)\n",
    "ax.set_xlabel(\"Epoch\", size=18)\n",
    "ax.set_ylabel(\"Val. Loss\", size=18)\n",
    "ax.set_title(\"SemiFrozen embeddings achieve lower validation loss\", size=22)\n",
    "fig.legend(fontsize=18)"
   ]
  },
  {
   "cell_type": "code",
   "execution_count": 38,
   "metadata": {},
   "outputs": [
    {
     "data": {
      "text/plain": [
       "<matplotlib.legend.Legend at 0x7f975d04b3c8>"
      ]
     },
     "execution_count": 38,
     "metadata": {},
     "output_type": "execute_result"
    },
    {
     "data": {
      "image/png": "[encoded data removed]",
      "text/plain": [
       "<Figure size 1152x360 with 1 Axes>"
      ]
     },
     "metadata": {},
     "output_type": "display_data"
    }
   ],
   "source": [
    "fig, ax = plt.subplots(1,1, figsize=(16,5), sharex=True)\n",
    "sns.despine(fig)\n",
    "ax.plot(random_learn.recorder.val_losses,label='Random', lw=4)\n",
    "ax.plot(unfrozen_learn.recorder.val_losses,label='Unfrozen', lw=4)\n",
    "ax.set_xlabel(\"Epoch\", size=18)\n",
    "ax.set_ylabel(\"Val. Loss\", size=18)\n",
    "\n",
    "ax.set_title('Random init and Unfrozen embeddings validation loss diverges', size=22)\n",
    "fig.legend(fontsize=18)"
   ]
  },
  {
   "cell_type": "markdown",
   "metadata": {},
   "source": [
    "# Predict"
   ]
  },
  {
   "cell_type": "code",
   "execution_count": null,
   "metadata": {},
   "outputs": [],
   "source": [
    "import fastprogress"
   ]
  },
  {
   "cell_type": "code",
   "execution_count": null,
   "metadata": {},
   "outputs": [],
   "source": [
    "import re\n",
    "predict_path = pathlib.Path('/home/martin/data/fakenews/dev-INPUT/tasks-2-3/dev/')\n",
    "res = []\n",
    "files = list(predict_path.glob('*.txt'))\n",
    "for fn in fastprogress.progress_bar(files):\n",
    "    text = fn.read_text()\n",
    "    line_it = text.split('\\n')\n",
    "    article_id = fn.name.replace('article', '').replace('.txt','')\n",
    "    fn_labels = pathlib.Path(fn.as_posix().replace('.txt', '.task2.labels'))\n",
    "    labels_text = fn_labels.read_text()\n",
    "    labels_it = labels_text.split('\\n')\n",
    "    for i, (line, l) in enumerate(zip(line_it,labels_it)):\n",
    "        if l == \"\":\n",
    "            continue\n",
    "        label = semifrozen_learn.predict(line)\n",
    "        score = torch.sigmoid(label[2])\n",
    "        if torch.sigmoid(label[2]) > 0.4:\n",
    "            label = 'propaganda'\n",
    "        else:\n",
    "            label = 'non-propaganda'\n",
    "        res.append({'text': line, 'article_id': article_id, 'line': i+1, 'label':label, 'score': score})"
   ]
  },
  {
   "cell_type": "code",
   "execution_count": null,
   "metadata": {},
   "outputs": [],
   "source": [
    "res = pd.DataFrame(res)"
   ]
  },
  {
   "cell_type": "code",
   "execution_count": null,
   "metadata": {},
   "outputs": [],
   "source": [
    "pd.DataFrame(res)[[\"article_id\", \"line\", \"label\"]].to_csv('/tmp/res.tsv',sep='\\t', header=None, index=False)"
   ]
  },
  {
   "cell_type": "code",
   "execution_count": null,
   "metadata": {},
   "outputs": [],
   "source": [
    "!subl /tmp/res.tsv"
   ]
  },
  {
   "cell_type": "code",
   "execution_count": 104,
   "metadata": {},
   "outputs": [
    {
     "data": {
      "text/plain": [
       "15170"
      ]
     },
     "execution_count": 104,
     "metadata": {},
     "output_type": "execute_result"
    }
   ],
   "source": [
    "len(data)"
   ]
  }
 ],
 "metadata": {
  "kernelspec": {
   "display_name": "Python 3",
   "language": "python",
   "name": "python3"
  },
  "language_info": {
   "codemirror_mode": {
    "name": "ipython",
    "version": 3
   },
   "file_extension": ".py",
   "mimetype": "text/x-python",
   "name": "python",
   "nbconvert_exporter": "python",
   "pygments_lexer": "ipython3",
   "version": "3.6.7"
  }
 },
 "nbformat": 4,
 "nbformat_minor": 2
}
